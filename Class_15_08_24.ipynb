{
  "nbformat": 4,
  "nbformat_minor": 0,
  "metadata": {
    "colab": {
      "provenance": [],
      "authorship_tag": "ABX9TyOgjoDSJjmBFC7HYUw44J4E",
      "include_colab_link": true
    },
    "kernelspec": {
      "name": "python3",
      "display_name": "Python 3"
    },
    "language_info": {
      "name": "python"
    }
  },
  "cells": [
    {
      "cell_type": "markdown",
      "metadata": {
        "id": "view-in-github",
        "colab_type": "text"
      },
      "source": [
        "<a href=\"https://colab.research.google.com/github/acvivs-scholae/acvivs-scholae/blob/main/Class_15_08_24.ipynb\" target=\"_parent\"><img src=\"https://colab.research.google.com/assets/colab-badge.svg\" alt=\"Open In Colab\"/></a>"
      ]
    },
    {
      "cell_type": "code",
      "execution_count": null,
      "metadata": {
        "id": "SMvat2ksrmhX"
      },
      "outputs": [],
      "source": []
    },
    {
      "cell_type": "markdown",
      "source": [
        "# **Bolaneos**\n",
        "Phyton implementa todos los operadores para lógica booolonea, asi como las repectovas expresiones lógicas.\n",
        "\n",
        "*   Mneor que \"<\"\n",
        "*   Mayor que \">\"\n",
        "*   Mayor o igual que \">=\"\n",
        "*   Menor o igaul que \"<=\"\n",
        "*   Diferente de \"!=\"\n",
        "*   Igual que \"==\"\n"
      ],
      "metadata": {
        "id": "DDzayrRsrodj"
      }
    },
    {
      "cell_type": "code",
      "source": [
        "a=5\n",
        "b=4"
      ],
      "metadata": {
        "id": "DUKtmAZzr5zQ"
      },
      "execution_count": null,
      "outputs": []
    },
    {
      "cell_type": "code",
      "source": [
        "print(a>b)\n",
        "print(a<b)\n",
        "print(a>=b)\n",
        "print(a<=b)\n",
        "print(a!=b)\n",
        "print(b!=a)\n",
        "print(a==b)"
      ],
      "metadata": {
        "colab": {
          "base_uri": "https://localhost:8080/"
        },
        "id": "vq1BfTAEsJme",
        "outputId": "d067d60a-30d6-4964-8285-04b36bd9f9cd"
      },
      "execution_count": null,
      "outputs": [
        {
          "output_type": "stream",
          "name": "stdout",
          "text": [
            "True\n",
            "False\n",
            "True\n",
            "False\n",
            "True\n",
            "True\n",
            "False\n"
          ]
        }
      ]
    },
    {
      "cell_type": "markdown",
      "source": [
        "*Realizar tres comparaciones donde se involucren los operadores matemáticos básicos.*\n",
        "\n",
        "\n"
      ],
      "metadata": {
        "id": "osGyobtCwN_G"
      }
    },
    {
      "cell_type": "code",
      "source": [
        "a=5\n",
        "b=4\n",
        "print((a+b+b)<(b*b))"
      ],
      "metadata": {
        "colab": {
          "base_uri": "https://localhost:8080/"
        },
        "id": "2Acp58oCuToQ",
        "outputId": "592c95cb-fdb7-4bb5-a544-093fb3c34916"
      },
      "execution_count": null,
      "outputs": [
        {
          "output_type": "stream",
          "name": "stdout",
          "text": [
            "True\n"
          ]
        }
      ]
    },
    {
      "cell_type": "code",
      "source": [
        "print((a-b+b)<(b/b))\n",
        "print((a*b/b)<(b+b*a))\n",
        "print((a*b*b)<(b/b/a))"
      ],
      "metadata": {
        "colab": {
          "base_uri": "https://localhost:8080/"
        },
        "id": "S9n3IDL1yJhe",
        "outputId": "cc2d3d5d-9be2-44d0-cf69-323938d500cb"
      },
      "execution_count": null,
      "outputs": [
        {
          "output_type": "stream",
          "name": "stdout",
          "text": [
            "False\n",
            "True\n",
            "False\n"
          ]
        }
      ]
    },
    {
      "cell_type": "markdown",
      "source": [
        "**Demostraciones de Operaciones Boloneaos**"
      ],
      "metadata": {
        "id": "rWRRyjUG0JYd"
      }
    },
    {
      "cell_type": "code",
      "source": [
        "x= True\n",
        "y= False"
      ],
      "metadata": {
        "id": "6FLe-XPiwNi2"
      },
      "execution_count": null,
      "outputs": []
    },
    {
      "cell_type": "code",
      "source": [
        "print (x and y)\n",
        "print (x or y)\n",
        "print (not x)\n",
        "print (not y)\n",
        "print (x!=y)"
      ],
      "metadata": {
        "colab": {
          "base_uri": "https://localhost:8080/"
        },
        "id": "UVWHDOWMvtAH",
        "outputId": "24804ccf-8a66-4384-e8a1-67e70d56f147"
      },
      "execution_count": null,
      "outputs": [
        {
          "output_type": "stream",
          "name": "stdout",
          "text": [
            "False\n",
            "True\n",
            "False\n",
            "True\n",
            "True\n"
          ]
        }
      ]
    },
    {
      "cell_type": "code",
      "source": [
        "#Tabla de verdad del operador lógico AND\n",
        "#Los dos tiene que ser verdaderos\n",
        "print(True and False)\n",
        "print(False and True)\n",
        "print(False and False)\n",
        "print(True and True)"
      ],
      "metadata": {
        "colab": {
          "base_uri": "https://localhost:8080/"
        },
        "id": "88YL65W_zWaG",
        "outputId": "ea14fc44-5a80-48f5-d88c-673fb2dba6de"
      },
      "execution_count": null,
      "outputs": [
        {
          "output_type": "stream",
          "name": "stdout",
          "text": [
            "False\n",
            "False\n",
            "False\n",
            "True\n"
          ]
        }
      ]
    },
    {
      "cell_type": "code",
      "source": [
        "#Tabla de verdad del operador lógico OR\n",
        "#Cuando hay un verdadero. caulquiera de los dos va a salir.\n",
        "print(True or False)\n",
        "print(False or True)\n",
        "print(False or False)\n",
        "print(True or True)"
      ],
      "metadata": {
        "colab": {
          "base_uri": "https://localhost:8080/"
        },
        "id": "SND-EZimz9gO",
        "outputId": "b6df8ab2-6060-464a-d979-20584a224eb0"
      },
      "execution_count": null,
      "outputs": [
        {
          "output_type": "stream",
          "name": "stdout",
          "text": [
            "True\n",
            "True\n",
            "False\n",
            "True\n"
          ]
        }
      ]
    },
    {
      "cell_type": "markdown",
      "source": [
        "**Ejemplos Adiciones**"
      ],
      "metadata": {
        "id": "di17jQZjy9ue"
      }
    },
    {
      "cell_type": "code",
      "source": [
        "(1 and not 1) or (1 and 1)"
      ],
      "metadata": {
        "colab": {
          "base_uri": "https://localhost:8080/"
        },
        "id": "UbPOgFf3wIxu",
        "outputId": "7c27a5a0-3c1b-44d8-e697-7cb883ecf939"
      },
      "execution_count": null,
      "outputs": [
        {
          "output_type": "execute_result",
          "data": {
            "text/plain": [
              "1"
            ]
          },
          "metadata": {},
          "execution_count": 25
        }
      ]
    },
    {
      "cell_type": "code",
      "source": [
        "(1 and not 0) or (1 and )"
      ],
      "metadata": {
        "id": "1YjNDkSwzOvO"
      },
      "execution_count": null,
      "outputs": []
    }
  ]
}