{
  "nbformat": 4,
  "nbformat_minor": 0,
  "metadata": {
    "colab": {
      "provenance": [],
      "authorship_tag": "ABX9TyPhjMEW2Euyi5OQqVZBzXRB",
      "include_colab_link": true
    },
    "kernelspec": {
      "name": "python3",
      "display_name": "Python 3"
    },
    "language_info": {
      "name": "python"
    }
  },
  "cells": [
    {
      "cell_type": "markdown",
      "metadata": {
        "id": "view-in-github",
        "colab_type": "text"
      },
      "source": [
        "<a href=\"https://colab.research.google.com/github/acvivs-scholae/acvivs-scholae/blob/main/Class_08_14_24.ipynb\" target=\"_parent\"><img src=\"https://colab.research.google.com/assets/colab-badge.svg\" alt=\"Open In Colab\"/></a>"
      ]
    },
    {
      "cell_type": "markdown",
      "source": [
        "**Tipos de Datos Básicos***"
      ],
      "metadata": {
        "id": "mD4Tk1nS8aUu"
      }
    },
    {
      "cell_type": "markdown",
      "source": [
        "Números\n",
        "Entre los cuáles econtramos 2, 4, 26. Todos esos números son enteros int. Los que tiene la parte de fracción: 5.1, 1.63, 18.20 son de tipo flotante."
      ],
      "metadata": {
        "id": "14YS7WVJ8qlF"
      }
    },
    {
      "cell_type": "code",
      "execution_count": null,
      "metadata": {
        "colab": {
          "base_uri": "https://localhost:8080/"
        },
        "id": "tvYKVNru8OKu",
        "outputId": "91b60ba0-3a43-4898-96df-878819d87b71"
      },
      "outputs": [
        {
          "output_type": "stream",
          "name": "stdout",
          "text": [
            "3\n"
          ]
        }
      ],
      "source": [
        "a=3\n",
        "print(a)"
      ]
    },
    {
      "cell_type": "code",
      "source": [
        "a=3\n",
        "print(a)\n",
        "type(a)"
      ],
      "metadata": {
        "colab": {
          "base_uri": "https://localhost:8080/"
        },
        "id": "lE1feCT0-cHu",
        "outputId": "9b25ccec-0780-44ab-87d4-1823fb92b431"
      },
      "execution_count": null,
      "outputs": [
        {
          "output_type": "stream",
          "name": "stdout",
          "text": [
            "3\n"
          ]
        },
        {
          "output_type": "execute_result",
          "data": {
            "text/plain": [
              "int"
            ]
          },
          "metadata": {},
          "execution_count": 2
        }
      ]
    },
    {
      "cell_type": "code",
      "source": [
        "b=5.5\n",
        "print(b)\n",
        "type(b)\n"
      ],
      "metadata": {
        "colab": {
          "base_uri": "https://localhost:8080/"
        },
        "id": "K8IpWdS1_WnP",
        "outputId": "9c4f6aa5-6292-45fd-f1db-5ae63af5a4dc"
      },
      "execution_count": null,
      "outputs": [
        {
          "output_type": "stream",
          "name": "stdout",
          "text": [
            "5.5\n"
          ]
        },
        {
          "output_type": "execute_result",
          "data": {
            "text/plain": [
              "float"
            ]
          },
          "metadata": {},
          "execution_count": 3
        }
      ]
    },
    {
      "cell_type": "code",
      "source": [
        "a=3\n",
        "b=5\n",
        "c=7\n",
        "print(a+b)\n",
        "print(a+c)\n",
        "print (b+c)\n",
        "print(c+a)"
      ],
      "metadata": {
        "colab": {
          "base_uri": "https://localhost:8080/"
        },
        "id": "tTwYkw-RAJL2",
        "outputId": "a68c114f-412e-4fff-9170-22b82c405f75"
      },
      "execution_count": null,
      "outputs": [
        {
          "output_type": "stream",
          "name": "stdout",
          "text": [
            "8\n",
            "10\n",
            "12\n",
            "10\n"
          ]
        }
      ]
    },
    {
      "cell_type": "markdown",
      "source": [
        "Calcular y mostrar en pantalla las sig. operaciones:\n",
        "Cuando:\n",
        "a=3\n",
        "b=4\n",
        "c=10\n",
        "\n",
        "1. c+a*b\n",
        "2. c/b\n",
        "3. c-b\n",
        "4. 2aa\n",
        "5. 2bb\n"
      ],
      "metadata": {
        "id": "apS8aICYA1D4"
      }
    },
    {
      "cell_type": "code",
      "source": [
        "a=3\n",
        "b=4\n",
        "c=10\n",
        "print(c+a*b)\n",
        "print(c/b)\n",
        "print(c-b)\n",
        "print(2*a*a)\n",
        "print(2*b*b)"
      ],
      "metadata": {
        "colab": {
          "base_uri": "https://localhost:8080/"
        },
        "id": "sTlaCwS6Bn3Y",
        "outputId": "d1180b2b-38de-48e4-a42e-f5b3651fc79d"
      },
      "execution_count": null,
      "outputs": [
        {
          "output_type": "stream",
          "name": "stdout",
          "text": [
            "22\n",
            "2.5\n",
            "6\n",
            "18\n",
            "32\n"
          ]
        }
      ]
    },
    {
      "cell_type": "markdown",
      "source": [
        "Retos de Programación\n",
        "Econtrar las raíces de la sig. ecuación cuadrática. por medio de un programa elaborado en Python. Aquí está la ecuación cuadatíca:\n",
        "**2x^2+3x+5**"
      ],
      "metadata": {
        "id": "N5ScU70VEwYP"
      }
    },
    {
      "cell_type": "code",
      "source": [
        "import cmath\n",
        "a=2\n",
        "b=8\n",
        "c=6\n",
        "discriminante=(b**2)-(4*a*c)\n",
        "raiz1=(-b-cmath.sqrt(discriminante))/(2*a)\n",
        "raiz2=(-b+cmath.sqrt(discriminante))/(2*a)\n"
      ],
      "metadata": {
        "id": "8rD4WRMECs-o"
      },
      "execution_count": 3,
      "outputs": []
    },
    {
      "cell_type": "code",
      "source": [
        "#Impresiones de las raices\n",
        "print('Las raices de la ecuación cuadrática son:')\n",
        "print(raiz1)\n",
        "print(raiz2)"
      ],
      "metadata": {
        "colab": {
          "base_uri": "https://localhost:8080/"
        },
        "id": "PMDmhXhvLAjn",
        "outputId": "f86129b7-8124-4060-f6b7-288ada875441"
      },
      "execution_count": 4,
      "outputs": [
        {
          "output_type": "stream",
          "name": "stdout",
          "text": [
            "Las raices de la ecuación cuadrática son:\n",
            "(-3+0j)\n",
            "(-1+0j)\n"
          ]
        }
      ]
    }
  ]
}