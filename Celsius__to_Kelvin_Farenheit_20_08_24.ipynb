{
  "nbformat": 4,
  "nbformat_minor": 0,
  "metadata": {
    "colab": {
      "provenance": [],
      "authorship_tag": "ABX9TyNJ/2ww84dUyWbrYjz9g6/R",
      "include_colab_link": true
    },
    "kernelspec": {
      "name": "python3",
      "display_name": "Python 3"
    },
    "language_info": {
      "name": "python"
    }
  },
  "cells": [
    {
      "cell_type": "markdown",
      "metadata": {
        "id": "view-in-github",
        "colab_type": "text"
      },
      "source": [
        "<a href=\"https://colab.research.google.com/github/acvivs-scholae/acvivs-scholae/blob/main/Celsius__to_Kelvin_Farenheit_20_08_24.ipynb\" target=\"_parent\"><img src=\"https://colab.research.google.com/assets/colab-badge.svg\" alt=\"Open In Colab\"/></a>"
      ]
    },
    {
      "cell_type": "markdown",
      "source": [
        "# Conversión de Grados"
      ],
      "metadata": {
        "id": "SP4kXjBG1lgr"
      }
    },
    {
      "cell_type": "code",
      "execution_count": null,
      "metadata": {
        "id": "PN3U1C0NgdZ3"
      },
      "outputs": [],
      "source": [
        "import math\n",
        "def grados_a_farenheit (grados):\n",
        "    return grados * 1.8 + 32\n",
        "def grados_a_kelvin (grados):\n",
        "    return grados + 273.15"
      ]
    },
    {
      "cell_type": "code",
      "source": [
        "#Opciones\n",
        "grados=int(input(\"Ingrese el valor a Convertir: \"))\n",
        "opcion=int(input(\"Ingrese la conversión a realizar (1/2): \"))\n",
        "if opcion==1:\n",
        "    print(grados_a_farenheit(grados))\n",
        "elif opcion==2:\n",
        "    print(grados_a_kelvin(grados))\n",
        "else:\n",
        "  print(\"Opcion Invalida\")"
      ],
      "metadata": {
        "colab": {
          "base_uri": "https://localhost:8080/"
        },
        "id": "FnPEsJhtAnS4",
        "outputId": "ecab6e50-7c42-4a8e-c772-686a51ed4306"
      },
      "execution_count": null,
      "outputs": [
        {
          "output_type": "stream",
          "name": "stdout",
          "text": [
            "Ingrese el valor a Convertir: 4\n",
            "Ingrese la conversión a realizar (1/2): 1\n",
            "39.2\n"
          ]
        }
      ]
    }
  ]
}