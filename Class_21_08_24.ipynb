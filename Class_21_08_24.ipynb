{
  "nbformat": 4,
  "nbformat_minor": 0,
  "metadata": {
    "colab": {
      "provenance": [],
      "authorship_tag": "ABX9TyM0Tg8wUzT3eo+ej4CmCiBU",
      "include_colab_link": true
    },
    "kernelspec": {
      "name": "python3",
      "display_name": "Python 3"
    },
    "language_info": {
      "name": "python"
    }
  },
  "cells": [
    {
      "cell_type": "markdown",
      "metadata": {
        "id": "view-in-github",
        "colab_type": "text"
      },
      "source": [
        "<a href=\"https://colab.research.google.com/github/acvivs-scholae/acvivs-scholae/blob/main/Class_21_08_24.ipynb\" target=\"_parent\"><img src=\"https://colab.research.google.com/assets/colab-badge.svg\" alt=\"Open In Colab\"/></a>"
      ]
    },
    {
      "cell_type": "markdown",
      "source": [
        "#Funciones"
      ],
      "metadata": {
        "id": "LogJ4TZkAzeB"
      }
    },
    {
      "cell_type": "code",
      "execution_count": 2,
      "metadata": {
        "colab": {
          "base_uri": "https://localhost:8080/",
          "height": 159
        },
        "collapsed": true,
        "id": "LOe7C0QOAw89",
        "outputId": "a3c45aa1-6f55-445c-b1ef-79fc6d7f7b64"
      },
      "outputs": [
        {
          "output_type": "error",
          "ename": "NameError",
          "evalue": "name 'add' is not defined",
          "traceback": [
            "\u001b[0;31m---------------------------------------------------------------------------\u001b[0m",
            "\u001b[0;31mNameError\u001b[0m                                 Traceback (most recent call last)",
            "\u001b[0;32m<ipython-input-2-b52d9ad953c7>\u001b[0m in \u001b[0;36m<cell line: 2>\u001b[0;34m()\u001b[0m\n\u001b[1;32m      1\u001b[0m \u001b[0ma\u001b[0m\u001b[0;34m=\u001b[0m\u001b[0;36m1\u001b[0m\u001b[0;34m\u001b[0m\u001b[0;34m\u001b[0m\u001b[0m\n\u001b[0;32m----> 2\u001b[0;31m \u001b[0mc\u001b[0m\u001b[0;34m=\u001b[0m \u001b[0madd\u001b[0m\u001b[0;34m(\u001b[0m\u001b[0;36m10\u001b[0m\u001b[0;34m)\u001b[0m\u001b[0;34m\u001b[0m\u001b[0;34m\u001b[0m\u001b[0m\n\u001b[0m",
            "\u001b[0;31mNameError\u001b[0m: name 'add' is not defined"
          ]
        }
      ],
      "source": [
        "#Esto es un errror típico de programación\n",
        "#Muy común al no definir la función de manera correcta.\n",
        "a=1\n",
        "\n",
        "c= add(10)\n",
        "c"
      ]
    },
    {
      "cell_type": "code",
      "source": [
        "#Definción de la función elaborada pro el usuario\n",
        "def suma(num1, num2): #Definicón de la función, nombre y sus argumentos de entrada\n",
        "  return num1 + num2 #Cuerpo de la función, operaciones a realizar"
      ],
      "metadata": {
        "id": "XBRrzNQ6A__B"
      },
      "execution_count": 6,
      "outputs": []
    },
    {
      "cell_type": "code",
      "source": [
        "#Asignación de constantes y variables\n",
        "a=100\n",
        "b=250\n",
        "#Llamado de la función suma\n",
        "suma (a,b)"
      ],
      "metadata": {
        "colab": {
          "base_uri": "https://localhost:8080/"
        },
        "id": "WPjMWrN7BtyY",
        "outputId": "60fb67cb-798b-43ad-e1bf-ef4636ff95a1"
      },
      "execution_count": 8,
      "outputs": [
        {
          "output_type": "execute_result",
          "data": {
            "text/plain": [
              "350"
            ]
          },
          "metadata": {},
          "execution_count": 8
        }
      ]
    },
    {
      "cell_type": "code",
      "source": [
        "def f(a,b):\n",
        "  return a*b"
      ],
      "metadata": {
        "id": "60AQbVeRBtzt"
      },
      "execution_count": null,
      "outputs": []
    },
    {
      "cell_type": "code",
      "source": [
        "#Asignación e valores a las variables\n",
        "a=4\n",
        "b=2"
      ],
      "metadata": {
        "id": "9AIjVAc3CuJZ"
      },
      "execution_count": null,
      "outputs": []
    },
    {
      "cell_type": "code",
      "source": [
        "#Función  que multiplica dos números\n",
        "def Mult(a,b):\n",
        "  c = a * b\n",
        "  return (c)\n",
        "  print('This is not printed')"
      ],
      "metadata": {
        "id": "Sf1agB-fEarC"
      },
      "execution_count": 20,
      "outputs": []
    },
    {
      "cell_type": "code",
      "source": [
        "a=4\n",
        "b=2\n",
        "result = Mult(12,2)\n",
        "print(result)"
      ],
      "metadata": {
        "colab": {
          "base_uri": "https://localhost:8080/"
        },
        "id": "-VaPArM0FGrK",
        "outputId": "b3f4d19c-0fba-4c79-aae0-f27315ca06f2"
      },
      "execution_count": 24,
      "outputs": [
        {
          "output_type": "stream",
          "name": "stdout",
          "text": [
            "24\n"
          ]
        }
      ]
    },
    {
      "cell_type": "code",
      "source": [
        "#Uso de Mult, dos flotantes.\n",
        "Mult(10.0, 3.14)"
      ],
      "metadata": {
        "id": "3-e_QC31H7Ub"
      },
      "execution_count": null,
      "outputs": []
    },
    {
      "cell_type": "code",
      "source": [
        "#Uso de Mult, dos valores el tipo de valores.\n",
        "Mult (2, \"Ewan Mtchell\")"
      ],
      "metadata": {
        "colab": {
          "base_uri": "https://localhost:8080/",
          "height": 35
        },
        "id": "5G07beHDIEbY",
        "outputId": "0445467e-f44d-48e0-eef4-6727b3d25d23"
      },
      "execution_count": 29,
      "outputs": [
        {
          "output_type": "execute_result",
          "data": {
            "text/plain": [
              "'Ewan MtchellEwan Mtchell'"
            ],
            "application/vnd.google.colaboratory.intrinsic+json": {
              "type": "string"
            }
          },
          "metadata": {},
          "execution_count": 29
        }
      ]
    },
    {
      "cell_type": "markdown",
      "source": [
        "#Variables en las funciones"
      ],
      "metadata": {
        "id": "WYOpCZsHIbBi"
      }
    },
    {
      "cell_type": "code",
      "source": [
        "#Definción de la función\n",
        "def square(a):\n",
        "    #Local variable b\n",
        "    b = 1\n",
        "    c = a * a + b\n",
        "    print(a, \"if you square + 1\", c)\n",
        "    return(c)"
      ],
      "metadata": {
        "id": "Vu0dIL1RIjDK"
      },
      "execution_count": 28,
      "outputs": []
    },
    {
      "cell_type": "code",
      "source": [
        "square(2)"
      ],
      "metadata": {
        "id": "UGWpBdF3Iq3B"
      },
      "execution_count": null,
      "outputs": []
    },
    {
      "cell_type": "code",
      "source": [
        "#Define funciones,"
      ],
      "metadata": {
        "id": "FSCH281MIuth"
      },
      "execution_count": null,
      "outputs": []
    },
    {
      "cell_type": "markdown",
      "source": [
        "#Bloque 1"
      ],
      "metadata": {
        "id": "67PeV55dJADo"
      }
    },
    {
      "cell_type": "code",
      "source": [
        "#Calculos de a y b, del bloque 1\n",
        "a1= 4\n",
        "b1= 5\n",
        "c1= a1 + b1 + 2 * a1 * b1 - 1\n",
        "if(c1 < 0):\n",
        "  c1 = 0\n",
        "else:\n",
        "  c1 = 5\n",
        "c1"
      ],
      "metadata": {
        "id": "z8vABkd_JGYx"
      },
      "execution_count": null,
      "outputs": []
    },
    {
      "cell_type": "markdown",
      "source": [
        "#**Retos de Programación**\n",
        "\n",
        "Realizar una función que me enteguen las raíces de la ecuación cuadratíca.\n",
        "Como argumentos de entrada van a ser los coeficientes de la ecuación y como la salidad las raíces de la ecuación."
      ],
      "metadata": {
        "id": "wQyS-hLFJZul"
      }
    },
    {
      "cell_type": "code",
      "source": [
        "import cmath\n",
        "def raiz(a,b,c):\n",
        "  discriminante = (b**2)-(4*a*c)\n",
        "  raiz1 = (-b-cmath.sqrt(discriminante))/(2*a)\n",
        "  raiz2 = (-b+cmath.sqrt(discriminante))/(2*a)\n",
        "  return raiz1, raiz2"
      ],
      "metadata": {
        "id": "xGvCsQP5JYZq"
      },
      "execution_count": 34,
      "outputs": []
    },
    {
      "cell_type": "code",
      "source": [
        "#Impresiones de las raíces\n",
        "raiz(1,2,3)"
      ],
      "metadata": {
        "colab": {
          "base_uri": "https://localhost:8080/"
        },
        "id": "T3NTlnQnLAR8",
        "outputId": "4bbf50fa-6ef2-4175-a702-34fb9138c6e3"
      },
      "execution_count": 35,
      "outputs": [
        {
          "output_type": "execute_result",
          "data": {
            "text/plain": [
              "((-1-1.4142135623730951j), (-1+1.4142135623730951j))"
            ]
          },
          "metadata": {},
          "execution_count": 35
        }
      ]
    },
    {
      "cell_type": "code",
      "source": [
        "from re import X\n",
        "#Ejemplo de un Compañero\n",
        "#Importamos la liberia math\n",
        "import math\n",
        "#Definimos la función\n",
        "def raiz(a,b,c):\n",
        "  #Calculo de discriminante\n",
        "  disc=b**2-4*a\n",
        "  #Calculo de las raices\n",
        "  if disc>0:\n",
        "    x1=(-b+math.sqrt(disc))/(2*a)\n",
        "    x2=(-b-math.sqrt(disc))/(2*a)\n",
        "    return x1,x2\n",
        "    elif ==0\n",
        "    x=-b/(2*a)\n",
        "    return x,X\n",
        "    else:\n",
        "      parte real= -b/(2*a)\n",
        "      parte imaginaria= math.sqrt(-disc)/(2*a)\n",
        "      return parte real, parte imaginaria\n",
        "      x1= complex(parte real, parte imaginaria)\n",
        "      x2= complex(parte real, -parte imaginaria)\n",
        "     return x1,x2"
      ],
      "metadata": {
        "id": "IX8E39fAM6iL"
      },
      "execution_count": null,
      "outputs": []
    },
    {
      "cell_type": "code",
      "source": [
        "print(raiz(1,2,1))"
      ],
      "metadata": {
        "colab": {
          "base_uri": "https://localhost:8080/"
        },
        "id": "US0SI-HOOnOI",
        "outputId": "7d29b150-89db-47dd-ecc3-94925dfbd8a0"
      },
      "execution_count": 38,
      "outputs": [
        {
          "output_type": "stream",
          "name": "stdout",
          "text": [
            "((-1+0j), (-1+0j))\n"
          ]
        }
      ]
    }
  ]
}