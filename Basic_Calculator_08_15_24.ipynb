{
  "nbformat": 4,
  "nbformat_minor": 0,
  "metadata": {
    "colab": {
      "provenance": [],
      "authorship_tag": "ABX9TyPOPExD+lwHQS7XqYxVJao1",
      "include_colab_link": true
    },
    "kernelspec": {
      "name": "python3",
      "display_name": "Python 3"
    },
    "language_info": {
      "name": "python"
    }
  },
  "cells": [
    {
      "cell_type": "markdown",
      "metadata": {
        "id": "view-in-github",
        "colab_type": "text"
      },
      "source": [
        "<a href=\"https://colab.research.google.com/github/acvivs-scholae/acvivs-scholae/blob/main/Basic_Calculator_08_15_24.ipynb\" target=\"_parent\"><img src=\"https://colab.research.google.com/assets/colab-badge.svg\" alt=\"Open In Colab\"/></a>"
      ]
    },
    {
      "cell_type": "code",
      "execution_count": null,
      "metadata": {
        "id": "oo9FHfnJ3vxj"
      },
      "outputs": [],
      "source": [
        "#Calculadora Básica utilizando funciones\n",
        "#Primero siempre correr este código, antes de darle correr al código de abajo\n",
        "def suma (a,b):\n",
        "  return a+b\n",
        "def resta(a,b):\n",
        "  return a-b\n",
        "def multiplicacion (a,b):\n",
        "  return a*b\n",
        "  def division (a,b):\n",
        "    return a/b"
      ]
    },
    {
      "cell_type": "code",
      "source": [
        "#En esta sección de código se ingresan los números sobre los cuales se va a realizar alguna opreacion\n",
        "#Recuerda perimeo darle correr el de arriba, si no leele otra vez. APRENDE A LEER\n",
        "num1=int(input(\"Ingrese el primero numero:\"))\n",
        "num2=int(input(\"Ingrese el segundo numero:\"))\n",
        "\n",
        "opcion=input(\"Ingrese la opreacion que desea realizar(1/2/3/4):\")\n",
        "if opcion == \"1\":\n",
        "  print (num1, \"+\", num2, \"=\", suma (num1, num2))\n",
        "elif opcion == '2':\n",
        "  print (num1, \"-\", num2, \"=\", resta (num1, num2))\n",
        "elif opcion == '3':\n",
        "  print (num1, \"*\", num2, \"=\", multiplicacion (num1, num2))\n",
        "elif opcion == '4':\n",
        "  print (num1, \"/\", num2, \"=\", division (num1, num2))\n",
        "else:\n",
        "  print (\"Opcion Invalidad\")"
      ],
      "metadata": {
        "colab": {
          "base_uri": "https://localhost:8080/"
        },
        "id": "mTx7aeKf4Y5X",
        "outputId": "446eefcc-4a30-4e33-a2a0-03aaa24ae4e6"
      },
      "execution_count": null,
      "outputs": [
        {
          "output_type": "stream",
          "name": "stdout",
          "text": [
            "Ingrese el primero numero:20\n",
            "Ingrese el segundo numero:40\n",
            "Ingrese la opreacion que desea realizar(1/2/3/4):5\n",
            "Opcion Invalidad\n"
          ]
        }
      ]
    }
  ]
}